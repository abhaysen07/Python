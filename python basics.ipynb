{
 "cells": [
  {
   "cell_type": "markdown",
   "id": "320c5108",
   "metadata": {},
   "source": [
    "# Print Statement"
   ]
  },
  {
   "cell_type": "code",
   "execution_count": 1,
   "id": "3ab4e030",
   "metadata": {},
   "outputs": [
    {
     "name": "stdout",
     "output_type": "stream",
     "text": [
      "Abhi\n"
     ]
    }
   ],
   "source": [
    "print(\"Abhi\")"
   ]
  },
  {
   "cell_type": "markdown",
   "id": "108df679",
   "metadata": {},
   "source": [
    "# Single Print Statement"
   ]
  },
  {
   "cell_type": "code",
   "execution_count": 2,
   "id": "f330c673",
   "metadata": {},
   "outputs": [
    {
     "name": "stdout",
     "output_type": "stream",
     "text": [
      "hey i love you\n"
     ]
    }
   ],
   "source": [
    "print(\"hey i love you\")"
   ]
  },
  {
   "cell_type": "markdown",
   "id": "993d6246",
   "metadata": {},
   "source": [
    "# Multiple Print Statement"
   ]
  },
  {
   "cell_type": "code",
   "execution_count": 3,
   "id": "b8816e1b",
   "metadata": {},
   "outputs": [
    {
     "name": "stdout",
     "output_type": "stream",
     "text": [
      "hey i love you\n"
     ]
    }
   ],
   "source": [
    "print(\"hey\",\"i\",\"love\",\"you\")"
   ]
  },
  {
   "cell_type": "markdown",
   "id": "c401162d",
   "metadata": {},
   "source": [
    "# Print Statement Using Seperator"
   ]
  },
  {
   "cell_type": "code",
   "execution_count": 4,
   "id": "216535bf",
   "metadata": {},
   "outputs": [
    {
     "name": "stdout",
     "output_type": "stream",
     "text": [
      "Data Science = is not easy\n"
     ]
    }
   ],
   "source": [
    "print(\"Data Science \",\" is not easy\",sep=\"=\")"
   ]
  },
  {
   "cell_type": "markdown",
   "id": "4a02463f",
   "metadata": {},
   "source": [
    "# Now using New Line Concept"
   ]
  },
  {
   "cell_type": "code",
   "execution_count": 5,
   "id": "2f58e238",
   "metadata": {},
   "outputs": [
    {
     "name": "stdout",
     "output_type": "stream",
     "text": [
      "Abhishek\n",
      "is not made for Love\n"
     ]
    }
   ],
   "source": [
    "print(\"Abhishek\",\"is not made for Love\",sep=\"\\n\")"
   ]
  },
  {
   "cell_type": "markdown",
   "id": "f9c3b1e4",
   "metadata": {},
   "source": [
    "# Python End Parameters"
   ]
  },
  {
   "cell_type": "code",
   "execution_count": 6,
   "id": "31f38511",
   "metadata": {},
   "outputs": [
    {
     "name": "stdout",
     "output_type": "stream",
     "text": [
      "abhishek\n",
      "is a good guy\n"
     ]
    }
   ],
   "source": [
    "print(\"abhishek\") # kindly move cursor over abhishek line you will space in end that's called new line\n",
    "print(\"is a good guy\")"
   ]
  },
  {
   "cell_type": "code",
   "execution_count": 7,
   "id": "9e73f3b4",
   "metadata": {},
   "outputs": [
    {
     "name": "stdout",
     "output_type": "stream",
     "text": [
      "python@is a snake\n"
     ]
    }
   ],
   "source": [
    "print(\"python\",end=\"@\")\n",
    "print(\"is a snake\")"
   ]
  },
  {
   "cell_type": "markdown",
   "id": "4fa8fc96",
   "metadata": {},
   "source": [
    "# Variables"
   ]
  },
  {
   "cell_type": "markdown",
   "id": "36f42e21",
   "metadata": {},
   "source": [
    "Variables is used to store data."
   ]
  },
  {
   "cell_type": "code",
   "execution_count": 8,
   "id": "64e46bf8",
   "metadata": {},
   "outputs": [],
   "source": [
    "name = \"Abhishek\""
   ]
  },
  {
   "cell_type": "code",
   "execution_count": 9,
   "id": "0435b534",
   "metadata": {},
   "outputs": [
    {
     "name": "stdout",
     "output_type": "stream",
     "text": [
      "Abhishek\n"
     ]
    }
   ],
   "source": [
    "print(name)"
   ]
  },
  {
   "cell_type": "code",
   "execution_count": 10,
   "id": "93ef251e",
   "metadata": {},
   "outputs": [
    {
     "name": "stdout",
     "output_type": "stream",
     "text": [
      "Name = Abhishek|Age = 25|Height = 5.1\n"
     ]
    }
   ],
   "source": [
    "name = \"Abhishek\"\n",
    "age = 25\n",
    "height = 5.10\n",
    "print(\"Name = \" + str(name),\"Age = \" + str(age),\"Height = \" + str(height),sep=\"|\")"
   ]
  },
  {
   "cell_type": "markdown",
   "id": "269b14e3",
   "metadata": {},
   "source": [
    "# Data Types"
   ]
  },
  {
   "cell_type": "markdown",
   "id": "32967100",
   "metadata": {},
   "source": [
    "String Data Type ---- str()"
   ]
  },
  {
   "cell_type": "code",
   "execution_count": 11,
   "id": "d40381cf",
   "metadata": {},
   "outputs": [
    {
     "name": "stdout",
     "output_type": "stream",
     "text": [
      "Abhishek : <class 'str'>\n"
     ]
    }
   ],
   "source": [
    "name = \"Abhishek\"\n",
    "print(name,type(name),sep=\" : \")"
   ]
  },
  {
   "cell_type": "code",
   "execution_count": 12,
   "id": "2e8deda4",
   "metadata": {},
   "outputs": [
    {
     "name": "stdout",
     "output_type": "stream",
     "text": [
      "<class 'str'>\n"
     ]
    }
   ],
   "source": [
    "a = \"hello\"\n",
    "print(type(a))"
   ]
  },
  {
   "cell_type": "code",
   "execution_count": 13,
   "id": "0fa80456",
   "metadata": {},
   "outputs": [
    {
     "name": "stdout",
     "output_type": "stream",
     "text": [
      "Hi I Love You\n"
     ]
    }
   ],
   "source": [
    "a = \"Hi\"\n",
    "b = \"I Love You\"\n",
    "print(a + \" \" + b)"
   ]
  },
  {
   "cell_type": "markdown",
   "id": "0051b938",
   "metadata": {},
   "source": [
    "# Numerical Types\n",
    "1. int() -- integer\n",
    "2. float() -- floating types likes decimal values\n",
    "3. complex() -- real and imaginary numbers"
   ]
  },
  {
   "cell_type": "code",
   "execution_count": 14,
   "id": "719e1d81",
   "metadata": {},
   "outputs": [
    {
     "name": "stdout",
     "output_type": "stream",
     "text": [
      "25 : <class 'int'>\n"
     ]
    }
   ],
   "source": [
    "age = 25\n",
    "print(age,type(age),sep = \" : \")"
   ]
  },
  {
   "cell_type": "code",
   "execution_count": 15,
   "id": "7bc5ed25",
   "metadata": {},
   "outputs": [
    {
     "name": "stdout",
     "output_type": "stream",
     "text": [
      "5.9 : <class 'float'>\n"
     ]
    }
   ],
   "source": [
    "height = 5.9\n",
    "print(height,type(height),sep = \" : \")"
   ]
  },
  {
   "cell_type": "code",
   "execution_count": 16,
   "id": "92dd7a6a",
   "metadata": {},
   "outputs": [
    {
     "name": "stdout",
     "output_type": "stream",
     "text": [
      "(5+2j) : <class 'complex'>\n"
     ]
    }
   ],
   "source": [
    "complx = 5+2j\n",
    "print(complx,type(complx),sep = \" : \")"
   ]
  },
  {
   "cell_type": "markdown",
   "id": "8bcb0ba0",
   "metadata": {},
   "source": [
    "# Sequence Series"
   ]
  },
  {
   "cell_type": "markdown",
   "id": "82d609d1",
   "metadata": {},
   "source": [
    "List - Strore multiple types of data that can be changable"
   ]
  },
  {
   "cell_type": "code",
   "execution_count": 17,
   "id": "b84edbac",
   "metadata": {},
   "outputs": [
    {
     "name": "stdout",
     "output_type": "stream",
     "text": [
      "['Abhi', 'Varun', 'Harsh'] : <class 'list'>\n"
     ]
    }
   ],
   "source": [
    "names = ['Abhi','Varun','Harsh']\n",
    "print(names,type(names),sep=\" : \")"
   ]
  },
  {
   "cell_type": "code",
   "execution_count": 18,
   "id": "ec92d08e",
   "metadata": {},
   "outputs": [
    {
     "name": "stdout",
     "output_type": "stream",
     "text": [
      "[40, 50, 60, 70, 80, 90]\n"
     ]
    }
   ],
   "source": [
    "mark = [40,50,60,70,80,90]\n",
    "print(mark)"
   ]
  },
  {
   "cell_type": "code",
   "execution_count": 19,
   "id": "44510da9",
   "metadata": {},
   "outputs": [],
   "source": [
    "detail = ['Suhail','25','Uttar Pradesh',32.2,False]"
   ]
  },
  {
   "cell_type": "markdown",
   "id": "fa8362a3",
   "metadata": {},
   "source": [
    "indexing of a list start from 0 to n-1\n",
    "\n",
    "    a = [1,2,3,4,5,6,7,8,9]\n",
    "    i =  0 1 2 3 4 5 6 7 8"
   ]
  },
  {
   "cell_type": "markdown",
   "id": "f32195d6",
   "metadata": {},
   "source": [
    "# Accessing List Index"
   ]
  },
  {
   "cell_type": "code",
   "execution_count": 20,
   "id": "27e479e7",
   "metadata": {},
   "outputs": [
    {
     "data": {
      "text/plain": [
       "(50, 70, 90)"
      ]
     },
     "execution_count": 20,
     "metadata": {},
     "output_type": "execute_result"
    }
   ],
   "source": [
    "mark[1],mark[3],mark[5]"
   ]
  },
  {
   "cell_type": "code",
   "execution_count": 21,
   "id": "1d42e14c",
   "metadata": {},
   "outputs": [
    {
     "data": {
      "text/plain": [
       "['mom', 'dad', 'me']"
      ]
     },
     "execution_count": 21,
     "metadata": {},
     "output_type": "execute_result"
    }
   ],
   "source": [
    "family = ['mom','dad','me']\n",
    "family"
   ]
  },
  {
   "cell_type": "markdown",
   "id": "71675a16",
   "metadata": {},
   "source": [
    "# Methods of Lists"
   ]
  },
  {
   "cell_type": "markdown",
   "id": "a4ee122e",
   "metadata": {},
   "source": [
    "1. Append = To append a value in last of list.\n",
    "2. Extend = To Extend multiple value together in last of list.\n",
    "3. pop = remove element from list.\n",
    "4. remove = remove elements from list by using there names.\n",
    "5. insert = insert element with the indexing."
   ]
  },
  {
   "cell_type": "code",
   "execution_count": 22,
   "id": "b89e2e3c",
   "metadata": {},
   "outputs": [],
   "source": [
    "family = ['mom','dad','me']"
   ]
  },
  {
   "cell_type": "markdown",
   "id": "19100bea",
   "metadata": {},
   "source": [
    "Append Sister value in family list"
   ]
  },
  {
   "cell_type": "code",
   "execution_count": 23,
   "id": "377e9499",
   "metadata": {},
   "outputs": [
    {
     "data": {
      "text/plain": [
       "['mom', 'dad', 'me', 'sister']"
      ]
     },
     "execution_count": 23,
     "metadata": {},
     "output_type": "execute_result"
    }
   ],
   "source": [
    "family.append('sister')\n",
    "family"
   ]
  },
  {
   "cell_type": "markdown",
   "id": "0d087b8f",
   "metadata": {},
   "source": [
    "Extend list with aunt, uncle, brother."
   ]
  },
  {
   "cell_type": "code",
   "execution_count": 24,
   "id": "5a06998e",
   "metadata": {},
   "outputs": [
    {
     "data": {
      "text/plain": [
       "['mom', 'dad', 'me', 'sister', 'aunt', 'uncle', 'brother']"
      ]
     },
     "execution_count": 24,
     "metadata": {},
     "output_type": "execute_result"
    }
   ],
   "source": [
    "family.extend(['aunt','uncle','brother'])\n",
    "family"
   ]
  },
  {
   "cell_type": "markdown",
   "id": "c2663a8f",
   "metadata": {},
   "source": [
    "pop the 3 element from family list"
   ]
  },
  {
   "cell_type": "code",
   "execution_count": 25,
   "id": "8687fee7",
   "metadata": {},
   "outputs": [
    {
     "data": {
      "text/plain": [
       "['mom', 'dad', 'me', 'aunt', 'uncle', 'brother']"
      ]
     },
     "execution_count": 25,
     "metadata": {},
     "output_type": "execute_result"
    }
   ],
   "source": [
    "family.pop(3)\n",
    "family"
   ]
  },
  {
   "cell_type": "markdown",
   "id": "ebea93a6",
   "metadata": {},
   "source": [
    "remove aunt from list"
   ]
  },
  {
   "cell_type": "code",
   "execution_count": 26,
   "id": "43b16bf5",
   "metadata": {},
   "outputs": [
    {
     "data": {
      "text/plain": [
       "['mom', 'dad', 'me', 'uncle', 'brother']"
      ]
     },
     "execution_count": 26,
     "metadata": {},
     "output_type": "execute_result"
    }
   ],
   "source": [
    "family.remove('aunt')\n",
    "family"
   ]
  },
  {
   "cell_type": "markdown",
   "id": "1f038347",
   "metadata": {},
   "source": [
    "insert brother in first place of family list"
   ]
  },
  {
   "cell_type": "code",
   "execution_count": 27,
   "id": "d0b8fab1",
   "metadata": {},
   "outputs": [
    {
     "data": {
      "text/plain": [
       "['brother', 'mom', 'dad', 'me', 'uncle', 'brother']"
      ]
     },
     "execution_count": 27,
     "metadata": {},
     "output_type": "execute_result"
    }
   ],
   "source": [
    "family.insert(0,'brother')\n",
    "family"
   ]
  },
  {
   "cell_type": "markdown",
   "id": "59da9e2b",
   "metadata": {},
   "source": [
    "# Tuples"
   ]
  },
  {
   "cell_type": "markdown",
   "id": "fb71c96c",
   "metadata": {},
   "source": [
    "Tuples is used to store different values.\n",
    "\n",
    "Tuples is hetrogenious, non-mutable(non-changable)\n",
    "\n",
    "syntax => ()"
   ]
  },
  {
   "cell_type": "code",
   "execution_count": 28,
   "id": "da4970ff",
   "metadata": {},
   "outputs": [
    {
     "data": {
      "text/plain": [
       "('mom', 'dad', 'me')"
      ]
     },
     "execution_count": 28,
     "metadata": {},
     "output_type": "execute_result"
    }
   ],
   "source": [
    "a = ('mom','dad','me')\n",
    "a"
   ]
  },
  {
   "cell_type": "code",
   "execution_count": 29,
   "id": "e3af0c0d",
   "metadata": {},
   "outputs": [
    {
     "ename": "TypeError",
     "evalue": "'tuple' object does not support item assignment",
     "output_type": "error",
     "traceback": [
      "\u001b[1;31m---------------------------------------------------------------------------\u001b[0m",
      "\u001b[1;31mTypeError\u001b[0m                                 Traceback (most recent call last)",
      "\u001b[1;32m~\\AppData\\Local\\Temp/ipykernel_1428/581907666.py\u001b[0m in \u001b[0;36m<module>\u001b[1;34m\u001b[0m\n\u001b[1;32m----> 1\u001b[1;33m \u001b[0ma\u001b[0m\u001b[1;33m[\u001b[0m\u001b[1;36m2\u001b[0m\u001b[1;33m]\u001b[0m \u001b[1;33m=\u001b[0m \u001b[1;34m'brother'\u001b[0m\u001b[1;33m\u001b[0m\u001b[1;33m\u001b[0m\u001b[0m\n\u001b[0m",
      "\u001b[1;31mTypeError\u001b[0m: 'tuple' object does not support item assignment"
     ]
    }
   ],
   "source": [
    "a[2] = 'brother'"
   ]
  },
  {
   "cell_type": "code",
   "execution_count": 30,
   "id": "e81bad8d",
   "metadata": {},
   "outputs": [
    {
     "data": {
      "text/plain": [
       "(3.13, 'suhail', 12, True)"
      ]
     },
     "execution_count": 30,
     "metadata": {},
     "output_type": "execute_result"
    }
   ],
   "source": [
    "values = (3.13,'suhail',12,True)\n",
    "values"
   ]
  },
  {
   "cell_type": "code",
   "execution_count": 31,
   "id": "8e5061e7",
   "metadata": {},
   "outputs": [
    {
     "data": {
      "text/plain": [
       "('apples', 'pineapple', 'grapes')"
      ]
     },
     "execution_count": 31,
     "metadata": {},
     "output_type": "execute_result"
    }
   ],
   "source": [
    "fruit = ('apples','pineapple','grapes')\n",
    "fruit"
   ]
  },
  {
   "cell_type": "code",
   "execution_count": 32,
   "id": "434ce300",
   "metadata": {},
   "outputs": [
    {
     "name": "stdout",
     "output_type": "stream",
     "text": [
      "('Abhi', 'Varun', 'Harsh') | <class 'tuple'>\n"
     ]
    }
   ],
   "source": [
    "names = ('Abhi','Varun','Harsh')\n",
    "print(names,type(names),sep = ' | ')"
   ]
  },
  {
   "cell_type": "markdown",
   "id": "ab4444d7",
   "metadata": {},
   "source": [
    "# Dictionary"
   ]
  },
  {
   "cell_type": "markdown",
   "id": "944d4356",
   "metadata": {},
   "source": [
    "Dictionary used to store multiple columns with different values (Key-Value) pair.\n",
    "\n",
    "Syntax => {}"
   ]
  },
  {
   "cell_type": "code",
   "execution_count": 33,
   "id": "d30bb85d",
   "metadata": {},
   "outputs": [],
   "source": [
    "dictnary = {\n",
    "    \"Name\" : \"Abhi\",\n",
    "    \"Age\" : 25,\n",
    "    \"Height\" : 5.9\n",
    "            }"
   ]
  },
  {
   "cell_type": "code",
   "execution_count": 34,
   "id": "6c76f2a1",
   "metadata": {},
   "outputs": [
    {
     "name": "stdout",
     "output_type": "stream",
     "text": [
      "{'Name': 'Abhi', 'Age': 25, 'Height': 5.9}\n"
     ]
    }
   ],
   "source": [
    "print(dictnary)"
   ]
  },
  {
   "cell_type": "code",
   "execution_count": 35,
   "id": "c5b3c0d0",
   "metadata": {},
   "outputs": [],
   "source": [
    "student = {\n",
    "    'Name' : 'Suhail',\n",
    "    'Maths' : 95,\n",
    "    'English' : 90,\n",
    "    'Bio' : 92,\n",
    "    'Phy' : 95,\n",
    "    'Chem' : 97,\n",
    "    'Passed' : True\n",
    "            }"
   ]
  },
  {
   "cell_type": "code",
   "execution_count": 36,
   "id": "1f09473e",
   "metadata": {},
   "outputs": [
    {
     "data": {
      "text/plain": [
       "{'Name': 'Suhail',\n",
       " 'Maths': 95,\n",
       " 'English': 90,\n",
       " 'Bio': 92,\n",
       " 'Phy': 95,\n",
       " 'Chem': 97,\n",
       " 'Passed': True}"
      ]
     },
     "execution_count": 36,
     "metadata": {},
     "output_type": "execute_result"
    }
   ],
   "source": [
    "student"
   ]
  },
  {
   "cell_type": "markdown",
   "id": "ba6434c2",
   "metadata": {},
   "source": [
    "# Accessing Dictionary"
   ]
  },
  {
   "cell_type": "code",
   "execution_count": 37,
   "id": "34328a5a",
   "metadata": {},
   "outputs": [
    {
     "name": "stdout",
     "output_type": "stream",
     "text": [
      "95 97\n"
     ]
    }
   ],
   "source": [
    "print(student['Phy'],student['Chem'])"
   ]
  },
  {
   "cell_type": "code",
   "execution_count": 38,
   "id": "a7fd2400",
   "metadata": {},
   "outputs": [
    {
     "data": {
      "text/plain": [
       "{'username': 'Suhail', 'password': 'p@$$WORD'}"
      ]
     },
     "execution_count": 38,
     "metadata": {},
     "output_type": "execute_result"
    }
   ],
   "source": [
    "login = {\n",
    "    'username' : 'Suhail',\n",
    "    'password' : 'p@$$WORD'\n",
    "        }\n",
    "login"
   ]
  },
  {
   "cell_type": "markdown",
   "id": "6f0a7677",
   "metadata": {},
   "source": [
    "Create a dictionary where\n",
    "\n",
    "        Name = Apple, color = Red, the best friend = True"
   ]
  },
  {
   "cell_type": "code",
   "execution_count": 39,
   "id": "673d08c4",
   "metadata": {},
   "outputs": [
    {
     "data": {
      "text/plain": [
       "{'name': 'Apple', 'color': 'Red', 'the best friend': True}"
      ]
     },
     "execution_count": 39,
     "metadata": {},
     "output_type": "execute_result"
    }
   ],
   "source": [
    "dic = {\n",
    "    'name' : 'Apple',\n",
    "    'color' : 'Red',\n",
    "    'the best friend' : True\n",
    "        }\n",
    "dic"
   ]
  },
  {
   "cell_type": "markdown",
   "id": "e6699149",
   "metadata": {},
   "source": [
    "# Accessing Dictionary Key from value"
   ]
  },
  {
   "cell_type": "code",
   "execution_count": 40,
   "id": "2a264d21",
   "metadata": {},
   "outputs": [
    {
     "name": "stdout",
     "output_type": "stream",
     "text": [
      "color\n"
     ]
    }
   ],
   "source": [
    "key_list = list(dic.keys())\n",
    "val_list = list(dic.values())\n",
    "\n",
    "position = val_list.index(\"Red\")\n",
    "\n",
    "print(key_list[position])"
   ]
  },
  {
   "cell_type": "markdown",
   "id": "10fb3d66",
   "metadata": {},
   "source": [
    "# Set"
   ]
  },
  {
   "cell_type": "markdown",
   "id": "6a77501c",
   "metadata": {},
   "source": [
    "Set is hetriogenious, unique, unordered.\n",
    "\n",
    "Set is used to store values which is unique in nature.\n",
    "\n",
    "Syntax => { }"
   ]
  },
  {
   "cell_type": "code",
   "execution_count": 41,
   "id": "a57974fc",
   "metadata": {},
   "outputs": [
    {
     "data": {
      "text/plain": [
       "{'anaconda', 'cobra', 'python', 'viper'}"
      ]
     },
     "execution_count": 41,
     "metadata": {},
     "output_type": "execute_result"
    }
   ],
   "source": [
    "nodle = {'cobra','viper','anaconda','python','cobra','cobra'}\n",
    "nodle"
   ]
  },
  {
   "cell_type": "code",
   "execution_count": 42,
   "id": "e02d6a12",
   "metadata": {},
   "outputs": [
    {
     "data": {
      "text/plain": [
       "{'c', 'c++', 'java', 'javascript', 'perl', 'python'}"
      ]
     },
     "execution_count": 42,
     "metadata": {},
     "output_type": "execute_result"
    }
   ],
   "source": [
    "Lang = {'c','c++','javascript','python','java','c','python','perl'}\n",
    "Lang"
   ]
  },
  {
   "cell_type": "code",
   "execution_count": 43,
   "id": "4a0de1be",
   "metadata": {},
   "outputs": [
    {
     "data": {
      "text/plain": [
       "{'python'}"
      ]
     },
     "execution_count": 43,
     "metadata": {},
     "output_type": "execute_result"
    }
   ],
   "source": [
    "nodle.intersection(Lang)"
   ]
  },
  {
   "cell_type": "code",
   "execution_count": 44,
   "id": "12533dd9",
   "metadata": {},
   "outputs": [
    {
     "data": {
      "text/plain": [
       "{'anaconda',\n",
       " 'c',\n",
       " 'c++',\n",
       " 'cobra',\n",
       " 'java',\n",
       " 'javascript',\n",
       " 'perl',\n",
       " 'python',\n",
       " 'viper'}"
      ]
     },
     "execution_count": 44,
     "metadata": {},
     "output_type": "execute_result"
    }
   ],
   "source": [
    "Lang.union(nodle)"
   ]
  },
  {
   "cell_type": "code",
   "execution_count": 45,
   "id": "c41d089b",
   "metadata": {},
   "outputs": [
    {
     "data": {
      "text/plain": [
       "set()"
      ]
     },
     "execution_count": 45,
     "metadata": {},
     "output_type": "execute_result"
    }
   ],
   "source": [
    "fruits = {\n",
    "    'apple','mango','grapes'\n",
    "        }\n",
    "fruits.intersection(nodle.union(Lang))"
   ]
  },
  {
   "cell_type": "code",
   "execution_count": 46,
   "id": "9421915e",
   "metadata": {},
   "outputs": [],
   "source": [
    "a = {10,20,30,40,80}\n",
    "b = {100,30,80,40,60}"
   ]
  },
  {
   "cell_type": "code",
   "execution_count": 47,
   "id": "cdb38bef",
   "metadata": {},
   "outputs": [
    {
     "name": "stdout",
     "output_type": "stream",
     "text": [
      "{10, 20}\n",
      "{100, 60}\n"
     ]
    }
   ],
   "source": [
    "print(a.difference(b))\n",
    "print(b.difference(a))"
   ]
  },
  {
   "cell_type": "code",
   "execution_count": 48,
   "id": "9610eeda",
   "metadata": {},
   "outputs": [
    {
     "name": "stdout",
     "output_type": "stream",
     "text": [
      "{'harsh', 'varun', 'abhi'} | <class 'set'>\n"
     ]
    }
   ],
   "source": [
    "name = {'abhi','varun','harsh','varun'}\n",
    "print(name,type(name),sep=' | ')"
   ]
  },
  {
   "cell_type": "code",
   "execution_count": 49,
   "id": "8809716e",
   "metadata": {},
   "outputs": [
    {
     "name": "stdout",
     "output_type": "stream",
     "text": [
      "frozenset({'banana', 'cherry', 'apple'}) | <class 'frozenset'>\n"
     ]
    }
   ],
   "source": [
    "x = frozenset({'apple','banana','cherry'})\n",
    "print(x,type(x),sep=' | ')"
   ]
  },
  {
   "cell_type": "markdown",
   "id": "46505789",
   "metadata": {},
   "source": [
    "# Boolean"
   ]
  },
  {
   "cell_type": "markdown",
   "id": "ab67c8af",
   "metadata": {},
   "source": [
    "Boolean is only having True And False value."
   ]
  },
  {
   "cell_type": "code",
   "execution_count": 50,
   "id": "45d554ee",
   "metadata": {},
   "outputs": [
    {
     "name": "stdout",
     "output_type": "stream",
     "text": [
      "True | <class 'bool'>\n"
     ]
    }
   ],
   "source": [
    "A = True\n",
    "print(A,type(A),sep=' | ')"
   ]
  },
  {
   "cell_type": "markdown",
   "id": "c046d9d1",
   "metadata": {},
   "source": [
    "# Mathematical Operations"
   ]
  },
  {
   "cell_type": "markdown",
   "id": "829c81b7",
   "metadata": {},
   "source": [
    "Addition Operation"
   ]
  },
  {
   "cell_type": "code",
   "execution_count": 51,
   "id": "d516dc37",
   "metadata": {},
   "outputs": [
    {
     "data": {
      "text/plain": [
       "4"
      ]
     },
     "execution_count": 51,
     "metadata": {},
     "output_type": "execute_result"
    }
   ],
   "source": [
    "1+3"
   ]
  },
  {
   "cell_type": "code",
   "execution_count": 52,
   "id": "65ed8fac",
   "metadata": {},
   "outputs": [
    {
     "name": "stdout",
     "output_type": "stream",
     "text": [
      "60\n"
     ]
    }
   ],
   "source": [
    "a = 5\n",
    "b = 55\n",
    "c = a + b\n",
    "print(c)"
   ]
  },
  {
   "cell_type": "markdown",
   "id": "b03015c0",
   "metadata": {},
   "source": [
    "Substraction Operation"
   ]
  },
  {
   "cell_type": "code",
   "execution_count": 53,
   "id": "78bddc5a",
   "metadata": {},
   "outputs": [
    {
     "data": {
      "text/plain": [
       "4"
      ]
     },
     "execution_count": 53,
     "metadata": {},
     "output_type": "execute_result"
    }
   ],
   "source": [
    "10 - 6"
   ]
  },
  {
   "cell_type": "code",
   "execution_count": 54,
   "id": "fd7d3fb4",
   "metadata": {},
   "outputs": [
    {
     "name": "stdout",
     "output_type": "stream",
     "text": [
      "27\n"
     ]
    }
   ],
   "source": [
    "a = 100\n",
    "b = 50\n",
    "c = 23\n",
    "d = a - b - c\n",
    "print(d)"
   ]
  },
  {
   "cell_type": "markdown",
   "id": "e683a266",
   "metadata": {},
   "source": [
    "Multiplication Operation"
   ]
  },
  {
   "cell_type": "code",
   "execution_count": 55,
   "id": "6448fd51",
   "metadata": {},
   "outputs": [
    {
     "data": {
      "text/plain": [
       "45"
      ]
     },
     "execution_count": 55,
     "metadata": {},
     "output_type": "execute_result"
    }
   ],
   "source": [
    "5 * 9"
   ]
  },
  {
   "cell_type": "code",
   "execution_count": 56,
   "id": "b0199207",
   "metadata": {},
   "outputs": [
    {
     "data": {
      "text/plain": [
       "6084"
      ]
     },
     "execution_count": 56,
     "metadata": {},
     "output_type": "execute_result"
    }
   ],
   "source": [
    "78 * 78"
   ]
  },
  {
   "cell_type": "markdown",
   "id": "65966661",
   "metadata": {},
   "source": [
    "Devide Operation"
   ]
  },
  {
   "cell_type": "code",
   "execution_count": 57,
   "id": "3b588544",
   "metadata": {},
   "outputs": [
    {
     "data": {
      "text/plain": [
       "1.4285714285714286"
      ]
     },
     "execution_count": 57,
     "metadata": {},
     "output_type": "execute_result"
    }
   ],
   "source": [
    "10 / 7"
   ]
  },
  {
   "cell_type": "code",
   "execution_count": 58,
   "id": "eee3ec53",
   "metadata": {},
   "outputs": [
    {
     "data": {
      "text/plain": [
       "773.1616161616162"
      ]
     },
     "execution_count": 58,
     "metadata": {},
     "output_type": "execute_result"
    }
   ],
   "source": [
    "76543 / 99"
   ]
  },
  {
   "cell_type": "markdown",
   "id": "c1cc5332",
   "metadata": {},
   "source": [
    "Exponential Operation"
   ]
  },
  {
   "cell_type": "code",
   "execution_count": 59,
   "id": "9e2bcc50",
   "metadata": {},
   "outputs": [
    {
     "data": {
      "text/plain": [
       "512"
      ]
     },
     "execution_count": 59,
     "metadata": {},
     "output_type": "execute_result"
    }
   ],
   "source": [
    "2 ** 9"
   ]
  },
  {
   "cell_type": "code",
   "execution_count": 60,
   "id": "1abbe786",
   "metadata": {},
   "outputs": [
    {
     "data": {
      "text/plain": [
       "27"
      ]
     },
     "execution_count": 60,
     "metadata": {},
     "output_type": "execute_result"
    }
   ],
   "source": [
    "3 ** 3"
   ]
  },
  {
   "cell_type": "markdown",
   "id": "2a9d5776",
   "metadata": {},
   "source": [
    "Modulo Operation"
   ]
  },
  {
   "cell_type": "code",
   "execution_count": 61,
   "id": "72ea6a23",
   "metadata": {},
   "outputs": [
    {
     "data": {
      "text/plain": [
       "1"
      ]
     },
     "execution_count": 61,
     "metadata": {},
     "output_type": "execute_result"
    }
   ],
   "source": [
    "5 % 2"
   ]
  },
  {
   "cell_type": "code",
   "execution_count": 62,
   "id": "8ffbff61",
   "metadata": {},
   "outputs": [
    {
     "data": {
      "text/plain": [
       "220"
      ]
     },
     "execution_count": 62,
     "metadata": {},
     "output_type": "execute_result"
    }
   ],
   "source": [
    "3452 % 808"
   ]
  },
  {
   "cell_type": "code",
   "execution_count": 63,
   "id": "9664f360",
   "metadata": {},
   "outputs": [
    {
     "data": {
      "text/plain": [
       "0"
      ]
     },
     "execution_count": 63,
     "metadata": {},
     "output_type": "execute_result"
    }
   ],
   "source": [
    "15 % 3"
   ]
  },
  {
   "cell_type": "markdown",
   "id": "a0a0d469",
   "metadata": {},
   "source": [
    "# Comparison Operation"
   ]
  },
  {
   "cell_type": "code",
   "execution_count": 64,
   "id": "ec2ad84e",
   "metadata": {},
   "outputs": [
    {
     "data": {
      "text/plain": [
       "False"
      ]
     },
     "execution_count": 64,
     "metadata": {},
     "output_type": "execute_result"
    }
   ],
   "source": [
    "12 > 22"
   ]
  },
  {
   "cell_type": "code",
   "execution_count": 65,
   "id": "9458ba92",
   "metadata": {},
   "outputs": [
    {
     "data": {
      "text/plain": [
       "True"
      ]
     },
     "execution_count": 65,
     "metadata": {},
     "output_type": "execute_result"
    }
   ],
   "source": [
    "100 > 1"
   ]
  },
  {
   "cell_type": "code",
   "execution_count": 66,
   "id": "e1155ecb",
   "metadata": {},
   "outputs": [
    {
     "data": {
      "text/plain": [
       "False"
      ]
     },
     "execution_count": 66,
     "metadata": {},
     "output_type": "execute_result"
    }
   ],
   "source": [
    "100 < 100"
   ]
  },
  {
   "cell_type": "code",
   "execution_count": 67,
   "id": "39761461",
   "metadata": {},
   "outputs": [
    {
     "data": {
      "text/plain": [
       "True"
      ]
     },
     "execution_count": 67,
     "metadata": {},
     "output_type": "execute_result"
    }
   ],
   "source": [
    "10 * 10 > 10 * 5"
   ]
  },
  {
   "cell_type": "code",
   "execution_count": 68,
   "id": "00c1f99d",
   "metadata": {},
   "outputs": [
    {
     "data": {
      "text/plain": [
       "False"
      ]
     },
     "execution_count": 68,
     "metadata": {},
     "output_type": "execute_result"
    }
   ],
   "source": [
    "10 * 10 > 10 ** 2"
   ]
  },
  {
   "cell_type": "code",
   "execution_count": 69,
   "id": "9910bc87",
   "metadata": {},
   "outputs": [
    {
     "data": {
      "text/plain": [
       "True"
      ]
     },
     "execution_count": 69,
     "metadata": {},
     "output_type": "execute_result"
    }
   ],
   "source": [
    "10 * 10 >= 10 ** 2"
   ]
  },
  {
   "cell_type": "code",
   "execution_count": 70,
   "id": "80117f81",
   "metadata": {},
   "outputs": [
    {
     "data": {
      "text/plain": [
       "False"
      ]
     },
     "execution_count": 70,
     "metadata": {},
     "output_type": "execute_result"
    }
   ],
   "source": [
    "10 * 2 < 5 * 2"
   ]
  },
  {
   "cell_type": "code",
   "execution_count": 71,
   "id": "45ec5ccf",
   "metadata": {},
   "outputs": [
    {
     "data": {
      "text/plain": [
       "True"
      ]
     },
     "execution_count": 71,
     "metadata": {},
     "output_type": "execute_result"
    }
   ],
   "source": [
    "10 != 20"
   ]
  },
  {
   "cell_type": "code",
   "execution_count": 72,
   "id": "f7dc4485",
   "metadata": {},
   "outputs": [
    {
     "data": {
      "text/plain": [
       "True"
      ]
     },
     "execution_count": 72,
     "metadata": {},
     "output_type": "execute_result"
    }
   ],
   "source": [
    "a = 10\n",
    "b = 78\n",
    "a != b"
   ]
  },
  {
   "cell_type": "markdown",
   "id": "b106ffbd",
   "metadata": {},
   "source": [
    "# And Or Logical Operation"
   ]
  },
  {
   "cell_type": "code",
   "execution_count": 73,
   "id": "61bff9b7",
   "metadata": {},
   "outputs": [
    {
     "data": {
      "text/plain": [
       "False"
      ]
     },
     "execution_count": 73,
     "metadata": {},
     "output_type": "execute_result"
    }
   ],
   "source": [
    "a = 15\n",
    "b = 10\n",
    "c = 10\n",
    "a == b and b == c"
   ]
  },
  {
   "cell_type": "code",
   "execution_count": 74,
   "id": "d4c32e17",
   "metadata": {},
   "outputs": [
    {
     "data": {
      "text/plain": [
       "True"
      ]
     },
     "execution_count": 74,
     "metadata": {},
     "output_type": "execute_result"
    }
   ],
   "source": [
    "a != b and b == c"
   ]
  },
  {
   "cell_type": "code",
   "execution_count": 75,
   "id": "bd9604c7",
   "metadata": {},
   "outputs": [
    {
     "data": {
      "text/plain": [
       "False"
      ]
     },
     "execution_count": 75,
     "metadata": {},
     "output_type": "execute_result"
    }
   ],
   "source": [
    "a = 10\n",
    "b = 10\n",
    "c = 11\n",
    "a == b and b == c"
   ]
  },
  {
   "cell_type": "code",
   "execution_count": 76,
   "id": "87a5b29c",
   "metadata": {},
   "outputs": [
    {
     "data": {
      "text/plain": [
       "True"
      ]
     },
     "execution_count": 76,
     "metadata": {},
     "output_type": "execute_result"
    }
   ],
   "source": [
    "a = 10\n",
    "b = 10\n",
    "c = 10\n",
    "a == b and b == c"
   ]
  },
  {
   "cell_type": "code",
   "execution_count": 77,
   "id": "c6cc8987",
   "metadata": {},
   "outputs": [
    {
     "data": {
      "text/plain": [
       "True"
      ]
     },
     "execution_count": 77,
     "metadata": {},
     "output_type": "execute_result"
    }
   ],
   "source": [
    "a = 10\n",
    "b = 10\n",
    "c = 15\n",
    "a == b or b == c"
   ]
  },
  {
   "cell_type": "code",
   "execution_count": 78,
   "id": "4f843668",
   "metadata": {},
   "outputs": [
    {
     "data": {
      "text/plain": [
       "False"
      ]
     },
     "execution_count": 78,
     "metadata": {},
     "output_type": "execute_result"
    }
   ],
   "source": [
    "math = 90\n",
    "eng = 90\n",
    "science = 95\n",
    "math == eng and eng == science"
   ]
  },
  {
   "cell_type": "code",
   "execution_count": 79,
   "id": "9f6a02db",
   "metadata": {},
   "outputs": [
    {
     "data": {
      "text/plain": [
       "False"
      ]
     },
     "execution_count": 79,
     "metadata": {},
     "output_type": "execute_result"
    }
   ],
   "source": [
    "eng = 70\n",
    "math = 70\n",
    "sci = 71\n",
    "hindi = 70\n",
    "eng == math and math == sci and sci == hindi"
   ]
  },
  {
   "cell_type": "code",
   "execution_count": 80,
   "id": "c4fe8ad6",
   "metadata": {},
   "outputs": [
    {
     "data": {
      "text/plain": [
       "True"
      ]
     },
     "execution_count": 80,
     "metadata": {},
     "output_type": "execute_result"
    }
   ],
   "source": [
    "a = 10\n",
    "b = 20\n",
    "c = 30\n",
    "(a < b and b < c) or (a > b and b > c)"
   ]
  },
  {
   "cell_type": "markdown",
   "id": "cbfff7cd",
   "metadata": {},
   "source": [
    "# Conditional Operation"
   ]
  },
  {
   "cell_type": "code",
   "execution_count": 81,
   "id": "0a25c832",
   "metadata": {},
   "outputs": [
    {
     "name": "stdout",
     "output_type": "stream",
     "text": [
      "Pass\n"
     ]
    }
   ],
   "source": [
    "a = 5\n",
    "if a > 4:\n",
    "    print('Pass')"
   ]
  },
  {
   "cell_type": "code",
   "execution_count": 82,
   "id": "9675f4b9",
   "metadata": {},
   "outputs": [
    {
     "name": "stdout",
     "output_type": "stream",
     "text": [
      "Fail\n"
     ]
    }
   ],
   "source": [
    "a = 1\n",
    "if a > 4:\n",
    "    print(\"Pass\")\n",
    "else:\n",
    "    print(\"Fail\")"
   ]
  },
  {
   "cell_type": "code",
   "execution_count": 83,
   "id": "0baa4399",
   "metadata": {},
   "outputs": [
    {
     "name": "stdout",
     "output_type": "stream",
     "text": [
      "x is 10\n"
     ]
    }
   ],
   "source": [
    "x = 10\n",
    "if x == 10:\n",
    "    print(\"x is 10\")"
   ]
  },
  {
   "cell_type": "code",
   "execution_count": 84,
   "id": "d932c993",
   "metadata": {},
   "outputs": [
    {
     "name": "stdout",
     "output_type": "stream",
     "text": [
      "Hello suhail\n",
      "Login Succesfully\n"
     ]
    }
   ],
   "source": [
    "name = 'suhail'\n",
    "if name == 'suhail':\n",
    "    print('Hello suhail')\n",
    "    print('Login Succesfully')"
   ]
  },
  {
   "cell_type": "code",
   "execution_count": 85,
   "id": "87d33397",
   "metadata": {},
   "outputs": [
    {
     "name": "stdout",
     "output_type": "stream",
     "text": [
      "Take Umbrella\n"
     ]
    }
   ],
   "source": [
    "weather = 'Raining'\n",
    "if weather == 'Raining':\n",
    "    print('Take Umbrella')\n",
    "else:\n",
    "    print(\"Take Jacket\")"
   ]
  },
  {
   "cell_type": "code",
   "execution_count": 86,
   "id": "072ed578",
   "metadata": {},
   "outputs": [
    {
     "name": "stdout",
     "output_type": "stream",
     "text": [
      "Pass\n"
     ]
    }
   ],
   "source": [
    "perc = 300\n",
    "if perc >= 40:\n",
    "    print('Pass')\n",
    "else:\n",
    "    print('Fail')"
   ]
  },
  {
   "cell_type": "code",
   "execution_count": 87,
   "id": "1c787326",
   "metadata": {},
   "outputs": [
    {
     "name": "stdout",
     "output_type": "stream",
     "text": [
      "Fail\n"
     ]
    }
   ],
   "source": [
    "perc = 0\n",
    "if perc <= 40:\n",
    "    print('Fail')\n",
    "elif perc <= 60:\n",
    "    print(\"Pass\")\n",
    "elif perc <= 80:\n",
    "    print(\"Good Performance\")\n",
    "else:\n",
    "    print(\"Distinction\")"
   ]
  },
  {
   "cell_type": "markdown",
   "id": "73b12c50",
   "metadata": {},
   "source": [
    "# Loops"
   ]
  },
  {
   "cell_type": "markdown",
   "id": "b939831a",
   "metadata": {},
   "source": [
    "Loops used to iterate values or elements."
   ]
  },
  {
   "cell_type": "markdown",
   "id": "35ceaa07",
   "metadata": {},
   "source": [
    "# Types of Loops."
   ]
  },
  {
   "cell_type": "markdown",
   "id": "ba977786",
   "metadata": {},
   "source": [
    "While Loop -- Repeats a statement or group of statements. While a given condition is True. If tests the condition before executing the loop body."
   ]
  },
  {
   "cell_type": "markdown",
   "id": "ce2b0c24",
   "metadata": {},
   "source": [
    "For Loop -- Executes a sequence of statements multiple times and abbreviates the code that manages the loop variables."
   ]
  },
  {
   "cell_type": "markdown",
   "id": "60e3557d",
   "metadata": {},
   "source": [
    "Nested Loop -- You can use or move Loops inside any another while, for or do_while Loop."
   ]
  },
  {
   "cell_type": "markdown",
   "id": "393fbfdc",
   "metadata": {},
   "source": [
    "# Loop Control Statements"
   ]
  },
  {
   "cell_type": "markdown",
   "id": "9810b7b9",
   "metadata": {},
   "source": [
    "Break -> Terminates the loop statements and transfer execution to the statement immediately following the loop."
   ]
  },
  {
   "cell_type": "markdown",
   "id": "2eab8553",
   "metadata": {},
   "source": [
    "Continue -> Causes the to skip the remainder of its body and immediately retest its condition prior to reinterating."
   ]
  },
  {
   "cell_type": "markdown",
   "id": "ee4bee63",
   "metadata": {},
   "source": [
    "Pass -> The pass statement in python is used when a statement is required syntactically but do not want any command or code to execute."
   ]
  },
  {
   "cell_type": "code",
   "execution_count": 88,
   "id": "3c65bc3d",
   "metadata": {},
   "outputs": [
    {
     "name": "stdout",
     "output_type": "stream",
     "text": [
      "1\n",
      "2\n",
      "3\n",
      "4\n",
      "5\n"
     ]
    }
   ],
   "source": [
    "#Example\n",
    "\n",
    "lst = [1,2,3,4,5]\n",
    "for i in lst:\n",
    "    print(i)"
   ]
  },
  {
   "cell_type": "code",
   "execution_count": 89,
   "id": "2797dd6e",
   "metadata": {},
   "outputs": [
    {
     "name": "stdout",
     "output_type": "stream",
     "text": [
      "1\n",
      "2\n",
      "3\n",
      "4\n",
      "5\n",
      "6\n",
      "7\n",
      "8\n",
      "9\n",
      "10\n"
     ]
    }
   ],
   "source": [
    "# Print First 10 Natural numbers using while loop\n",
    "i = 1\n",
    "while(i <= 10):\n",
    "    print(i)\n",
    "    i+=1"
   ]
  },
  {
   "cell_type": "markdown",
   "id": "d3c9a144",
   "metadata": {},
   "source": [
    "While Loop -> The while loop we can executes a set of statement as long as a condition is True."
   ]
  },
  {
   "cell_type": "code",
   "execution_count": 90,
   "id": "824ce6e0",
   "metadata": {},
   "outputs": [
    {
     "name": "stdout",
     "output_type": "stream",
     "text": [
      "1\n",
      "2\n",
      "3\n",
      "4\n",
      "5\n"
     ]
    }
   ],
   "source": [
    "i = 1\n",
    "while i < 6:\n",
    "    print(i)\n",
    "    i+=1"
   ]
  },
  {
   "cell_type": "markdown",
   "id": "91cf76d1",
   "metadata": {},
   "source": [
    "The Break statement in while loop exit the loop when the condition is True."
   ]
  },
  {
   "cell_type": "code",
   "execution_count": 91,
   "id": "e326c7eb",
   "metadata": {},
   "outputs": [
    {
     "name": "stdout",
     "output_type": "stream",
     "text": [
      "1\n",
      "2\n",
      "3\n"
     ]
    }
   ],
   "source": [
    "i = 1\n",
    "while i < 6:\n",
    "    print(i)\n",
    "    if i == 3:\n",
    "        break\n",
    "    i+=1"
   ]
  },
  {
   "cell_type": "code",
   "execution_count": 92,
   "id": "50193fce",
   "metadata": {},
   "outputs": [
    {
     "name": "stdout",
     "output_type": "stream",
     "text": [
      "Abhishek\n",
      "Abhishek\n",
      "Abhishek\n"
     ]
    }
   ],
   "source": [
    "# If i is less than 3 print Abhishek\n",
    "count = 0\n",
    "while count < 3:\n",
    "    count += 1\n",
    "    print('Abhishek')"
   ]
  },
  {
   "cell_type": "code",
   "execution_count": 93,
   "id": "991e7113",
   "metadata": {},
   "outputs": [
    {
     "name": "stdout",
     "output_type": "stream",
     "text": [
      "4\n",
      "3\n",
      "2\n",
      "1\n"
     ]
    }
   ],
   "source": [
    "# Check if list still contains any element.\n",
    "a = [1,2,3,4]\n",
    "while a:\n",
    "    print(a.pop())"
   ]
  },
  {
   "cell_type": "markdown",
   "id": "7a0df382",
   "metadata": {},
   "source": [
    "Single Statement While block"
   ]
  },
  {
   "cell_type": "code",
   "execution_count": 94,
   "id": "21c781ce",
   "metadata": {},
   "outputs": [
    {
     "name": "stdout",
     "output_type": "stream",
     "text": [
      "Hello Geek\n",
      "Hello Geek\n",
      "Hello Geek\n",
      "Hello Geek\n",
      "Hello Geek\n"
     ]
    }
   ],
   "source": [
    "count = 0\n",
    "while count < 5:\n",
    "    count += 1\n",
    "    print('Hello Geek')"
   ]
  },
  {
   "cell_type": "markdown",
   "id": "91611b2e",
   "metadata": {},
   "source": [
    "Continue -> Python continue statement returns the control to the begining of the loop"
   ]
  },
  {
   "cell_type": "code",
   "execution_count": 95,
   "id": "1f0e81f0",
   "metadata": {},
   "outputs": [
    {
     "name": "stdout",
     "output_type": "stream",
     "text": [
      "Current letter g\n",
      "Current letter k\n",
      "Current letter f\n",
      "Current letter o\n",
      "Current letter r\n",
      "Current letter g\n",
      "Current letter k\n"
     ]
    }
   ],
   "source": [
    "# Print all letters except 'e' and 's'\n",
    "a = 'geekforgeeks'\n",
    "i = 0\n",
    "while i < len(a):\n",
    "    if a[i] == 'e' or a[i] == 's':\n",
    "        i += 1\n",
    "        continue\n",
    "    print('Current letter',a[i])\n",
    "    i += 1"
   ]
  },
  {
   "cell_type": "markdown",
   "id": "5e530114",
   "metadata": {},
   "source": [
    "# Else Statement"
   ]
  },
  {
   "cell_type": "markdown",
   "id": "d520b2c7",
   "metadata": {},
   "source": [
    "With the else statement we can run a block of code Once when the condition no longer is True."
   ]
  },
  {
   "cell_type": "code",
   "execution_count": 96,
   "id": "d88e5b98",
   "metadata": {},
   "outputs": [
    {
     "name": "stdout",
     "output_type": "stream",
     "text": [
      "1\n",
      "2\n",
      "3\n",
      "4\n",
      "5\n",
      "i is no longer less than 6\n"
     ]
    }
   ],
   "source": [
    "# Print a message once the condition is false\n",
    "i = 1\n",
    "while i < 6:\n",
    "    print(i)\n",
    "    i += 1\n",
    "else:\n",
    "    print('i is no longer less than 6')"
   ]
  },
  {
   "cell_type": "markdown",
   "id": "02474a2a",
   "metadata": {},
   "source": [
    "# Python For Loop"
   ]
  },
  {
   "cell_type": "markdown",
   "id": "ec117d98",
   "metadata": {},
   "source": [
    "A for loop is used for iterating over a sequence (that is either a list, a dictionary, a set or a string.)"
   ]
  },
  {
   "cell_type": "code",
   "execution_count": 97,
   "id": "05518978",
   "metadata": {},
   "outputs": [
    {
     "name": "stdout",
     "output_type": "stream",
     "text": [
      "apple\n",
      "banana\n",
      "cherry\n"
     ]
    }
   ],
   "source": [
    "fruit = ['apple','banana','cherry']\n",
    "for x in fruit:\n",
    "    print(x)"
   ]
  },
  {
   "cell_type": "code",
   "execution_count": 98,
   "id": "cc225124",
   "metadata": {},
   "outputs": [
    {
     "name": "stdout",
     "output_type": "stream",
     "text": [
      "B\n",
      "a\n",
      "n\n",
      "a\n",
      "n\n",
      "a\n"
     ]
    }
   ],
   "source": [
    "# Looping through string\n",
    "for x in 'Banana':\n",
    "    print(x)"
   ]
  },
  {
   "cell_type": "markdown",
   "id": "253b5885",
   "metadata": {},
   "source": [
    "# The Break Statement"
   ]
  },
  {
   "cell_type": "markdown",
   "id": "330b41bd",
   "metadata": {},
   "source": [
    "with the break statement we can stop the loop before it has logged through all the items"
   ]
  },
  {
   "cell_type": "code",
   "execution_count": 99,
   "id": "4a69c5c7",
   "metadata": {},
   "outputs": [
    {
     "name": "stdout",
     "output_type": "stream",
     "text": [
      "apples\n",
      "banana\n"
     ]
    }
   ],
   "source": [
    "fruit = ['apples','banana','cherry']\n",
    "for x in fruit:\n",
    "    print(x)\n",
    "    if x == 'banana':\n",
    "        break"
   ]
  },
  {
   "cell_type": "markdown",
   "id": "4d0bd48a",
   "metadata": {},
   "source": [
    "# The Continue Statement"
   ]
  },
  {
   "cell_type": "markdown",
   "id": "3b5deed0",
   "metadata": {},
   "source": [
    "with the continue statement we can stop the current iteration of the loop and continue with the next."
   ]
  },
  {
   "cell_type": "code",
   "execution_count": 100,
   "id": "1c416b0c",
   "metadata": {},
   "outputs": [
    {
     "name": "stdout",
     "output_type": "stream",
     "text": [
      "apples\n",
      "cherry\n"
     ]
    }
   ],
   "source": [
    "for x in fruit:\n",
    "    if x == 'banana':\n",
    "        continue\n",
    "    print(x)"
   ]
  },
  {
   "cell_type": "markdown",
   "id": "7ad1009a",
   "metadata": {},
   "source": [
    "# The Range() Function"
   ]
  },
  {
   "cell_type": "markdown",
   "id": "75db5464",
   "metadata": {},
   "source": [
    "To loop through a set of code a specified no. of items"
   ]
  },
  {
   "cell_type": "code",
   "execution_count": 101,
   "id": "b841b828",
   "metadata": {},
   "outputs": [
    {
     "name": "stdout",
     "output_type": "stream",
     "text": [
      "0\n",
      "1\n",
      "2\n",
      "3\n",
      "4\n",
      "5\n"
     ]
    }
   ],
   "source": [
    "for x in range(6):\n",
    "    print(x)"
   ]
  },
  {
   "cell_type": "code",
   "execution_count": 102,
   "id": "23058e82",
   "metadata": {},
   "outputs": [
    {
     "name": "stdout",
     "output_type": "stream",
     "text": [
      "2\n",
      "3\n",
      "4\n",
      "5\n"
     ]
    }
   ],
   "source": [
    "for x in range(2,6):\n",
    "    print(x)"
   ]
  },
  {
   "cell_type": "code",
   "execution_count": 103,
   "id": "79a764ca",
   "metadata": {},
   "outputs": [
    {
     "name": "stdout",
     "output_type": "stream",
     "text": [
      "2\n",
      "5\n",
      "8\n",
      "11\n",
      "14\n",
      "17\n",
      "20\n",
      "23\n",
      "26\n",
      "29\n"
     ]
    }
   ],
   "source": [
    "# Increament the sequence by 3 (default is 1)\n",
    "for x in range(2,30,3):\n",
    "    print(x)"
   ]
  },
  {
   "cell_type": "markdown",
   "id": "14dee931",
   "metadata": {},
   "source": [
    "# Nested Loops"
   ]
  },
  {
   "cell_type": "markdown",
   "id": "5f415d4b",
   "metadata": {},
   "source": [
    " A nested is a loop inside a loop. The inner loop will be executed one time for each iteration of the outer loop."
   ]
  },
  {
   "cell_type": "code",
   "execution_count": 104,
   "id": "304d3e18",
   "metadata": {},
   "outputs": [
    {
     "name": "stdout",
     "output_type": "stream",
     "text": [
      "red : apples\n",
      "red : banana\n",
      "red : cherry\n",
      "big : apples\n",
      "big : banana\n",
      "big : cherry\n",
      "tasty : apples\n",
      "tasty : banana\n",
      "tasty : cherry\n"
     ]
    }
   ],
   "source": [
    "adj = ['red','big','tasty']\n",
    "fruit = ['apples','banana','cherry']\n",
    "for x in adj:\n",
    "    for y in fruit:\n",
    "        print(x,y,sep=\" : \")"
   ]
  },
  {
   "cell_type": "markdown",
   "id": "552a1c9c",
   "metadata": {},
   "source": [
    "# Python Function"
   ]
  },
  {
   "cell_type": "markdown",
   "id": "6ef28b99",
   "metadata": {},
   "source": [
    "A function is a block of code which only runs when it is called. You can pass data, known as parameters, into a function. A function can return data as result."
   ]
  },
  {
   "cell_type": "markdown",
   "id": "e05faa26",
   "metadata": {},
   "source": [
    "# Creating a function"
   ]
  },
  {
   "cell_type": "markdown",
   "id": "48712953",
   "metadata": {},
   "source": [
    "In python a function is defined using the def keyword:"
   ]
  },
  {
   "cell_type": "code",
   "execution_count": 105,
   "id": "1daa43c1",
   "metadata": {},
   "outputs": [],
   "source": [
    "def my_func():\n",
    "    print(\"Hello from a function\")"
   ]
  },
  {
   "cell_type": "code",
   "execution_count": 106,
   "id": "f09f94f3",
   "metadata": {},
   "outputs": [
    {
     "name": "stdout",
     "output_type": "stream",
     "text": [
      "Hello from a function\n"
     ]
    }
   ],
   "source": [
    "# Calling a Function\n",
    "my_func()"
   ]
  },
  {
   "cell_type": "markdown",
   "id": "cbe46e7f",
   "metadata": {},
   "source": [
    "Another one"
   ]
  },
  {
   "cell_type": "code",
   "execution_count": 107,
   "id": "96886501",
   "metadata": {},
   "outputs": [],
   "source": [
    "def say_hello(name):\n",
    "    print(f'hello {name}')"
   ]
  },
  {
   "cell_type": "code",
   "execution_count": 108,
   "id": "37f7cd97",
   "metadata": {},
   "outputs": [
    {
     "name": "stdout",
     "output_type": "stream",
     "text": [
      "hello abhishek\n"
     ]
    }
   ],
   "source": [
    "say_hello(\"abhishek\")"
   ]
  },
  {
   "cell_type": "code",
   "execution_count": 109,
   "id": "1055e281",
   "metadata": {},
   "outputs": [],
   "source": [
    "def say_hello(name='default'):\n",
    "    print(f'hello {name}')"
   ]
  },
  {
   "cell_type": "code",
   "execution_count": 110,
   "id": "533e9d97",
   "metadata": {},
   "outputs": [
    {
     "name": "stdout",
     "output_type": "stream",
     "text": [
      "hello default\n"
     ]
    }
   ],
   "source": [
    "say_hello()"
   ]
  },
  {
   "cell_type": "code",
   "execution_count": 111,
   "id": "efe36cc6",
   "metadata": {},
   "outputs": [
    {
     "name": "stdout",
     "output_type": "stream",
     "text": [
      "hello arjun\n"
     ]
    }
   ],
   "source": [
    "say_hello(\"arjun\")"
   ]
  },
  {
   "cell_type": "markdown",
   "id": "71ebf413",
   "metadata": {},
   "source": [
    "# function on Operation"
   ]
  },
  {
   "cell_type": "code",
   "execution_count": 112,
   "id": "ad1021d7",
   "metadata": {},
   "outputs": [],
   "source": [
    "def add_num(num1,num2):\n",
    "    return num1 + num2"
   ]
  },
  {
   "cell_type": "code",
   "execution_count": 113,
   "id": "52180979",
   "metadata": {},
   "outputs": [],
   "source": [
    "result = add_num(3,6)"
   ]
  },
  {
   "cell_type": "code",
   "execution_count": 114,
   "id": "fe64417a",
   "metadata": {},
   "outputs": [
    {
     "name": "stdout",
     "output_type": "stream",
     "text": [
      "9\n"
     ]
    }
   ],
   "source": [
    "print(result)"
   ]
  },
  {
   "cell_type": "markdown",
   "id": "b16047f3",
   "metadata": {},
   "source": [
    "# Arguments in function"
   ]
  },
  {
   "cell_type": "markdown",
   "id": "51dea9c4",
   "metadata": {},
   "source": [
    "Information can be passed into functions as arguments."
   ]
  },
  {
   "cell_type": "code",
   "execution_count": 115,
   "id": "cd170c66",
   "metadata": {},
   "outputs": [
    {
     "name": "stdout",
     "output_type": "stream",
     "text": [
      "Abhishek Refnses\n"
     ]
    }
   ],
   "source": [
    "def my_func(fname):\n",
    "    print(fname + \" Refnses\")\n",
    "my_func(\"Abhishek\")"
   ]
  },
  {
   "cell_type": "code",
   "execution_count": 116,
   "id": "29f43f8e",
   "metadata": {},
   "outputs": [
    {
     "name": "stdout",
     "output_type": "stream",
     "text": [
      "Arjun Refnses\n"
     ]
    }
   ],
   "source": [
    "my_func(\"Arjun\")"
   ]
  },
  {
   "cell_type": "code",
   "execution_count": 117,
   "id": "13485b12",
   "metadata": {},
   "outputs": [
    {
     "name": "stdout",
     "output_type": "stream",
     "text": [
      "Linus Refnses\n"
     ]
    }
   ],
   "source": [
    "my_func(\"Linus\")"
   ]
  },
  {
   "cell_type": "markdown",
   "id": "8c5e7556",
   "metadata": {},
   "source": [
    "# Number Of Arguments"
   ]
  },
  {
   "cell_type": "markdown",
   "id": "b1ae6007",
   "metadata": {},
   "source": [
    "BY default, a function must be called with the correct no. of arguments."
   ]
  },
  {
   "cell_type": "code",
   "execution_count": 118,
   "id": "5d3751cf",
   "metadata": {},
   "outputs": [
    {
     "name": "stdout",
     "output_type": "stream",
     "text": [
      "Abhishek Kumar\n"
     ]
    }
   ],
   "source": [
    "def my_func(fname,lname):\n",
    "    print(str(fname) + \" \" + str(lname))\n",
    "my_func(\"Abhishek\",\"Kumar\")"
   ]
  },
  {
   "cell_type": "code",
   "execution_count": 119,
   "id": "c7f102f7",
   "metadata": {},
   "outputs": [],
   "source": [
    "# Print Out all number from the list which is even?\n",
    "\n",
    "def check_even_list(num_list):\n",
    "    even_number = []\n",
    "    for number in num_list:\n",
    "        if number % 2 == 0:\n",
    "            even_number.append(number)\n",
    "        else:\n",
    "            pass\n",
    "    return even_number"
   ]
  },
  {
   "cell_type": "code",
   "execution_count": 120,
   "id": "2f713dcb",
   "metadata": {},
   "outputs": [
    {
     "data": {
      "text/plain": [
       "[2, 4, 6, 8]"
      ]
     },
     "execution_count": 120,
     "metadata": {},
     "output_type": "execute_result"
    }
   ],
   "source": [
    "check_even_list([1,2,3,4,5,6,7,8,9])"
   ]
  },
  {
   "cell_type": "code",
   "execution_count": 121,
   "id": "9bc33685",
   "metadata": {},
   "outputs": [
    {
     "data": {
      "text/plain": [
       "[22, 44]"
      ]
     },
     "execution_count": 121,
     "metadata": {},
     "output_type": "execute_result"
    }
   ],
   "source": [
    "check_even_list([11,13,15,17,19,21,22,29,37,44])"
   ]
  },
  {
   "cell_type": "markdown",
   "id": "107f260e",
   "metadata": {},
   "source": [
    "# Arbitrary Arguments, *args"
   ]
  },
  {
   "cell_type": "markdown",
   "id": "60df26c6",
   "metadata": {},
   "source": [
    "If you do not know how many arguments that will be passed into your function, add a * b before the parameter name in the function definition. If the number of arguments is unknown, add * before parameter name:\n"
   ]
  },
  {
   "cell_type": "code",
   "execution_count": 122,
   "id": "d5307d40",
   "metadata": {},
   "outputs": [
    {
     "name": "stdout",
     "output_type": "stream",
     "text": [
      "The Youngest child is Abhay\n"
     ]
    }
   ],
   "source": [
    "def my_func(*kids):\n",
    "    print(\"The Youngest child is \" + kids[2])\n",
    "my_func(\"abhishek\",\"guddu\",\"Abhay\")"
   ]
  },
  {
   "cell_type": "code",
   "execution_count": 123,
   "id": "39db3213",
   "metadata": {},
   "outputs": [
    {
     "data": {
      "text/plain": [
       "27.5"
      ]
     },
     "execution_count": 123,
     "metadata": {},
     "output_type": "execute_result"
    }
   ],
   "source": [
    "def my_func(*args):\n",
    "    return sum(args) * 0.05\n",
    "my_func(10,20,30,40,50,60,70,80,90,100)"
   ]
  },
  {
   "cell_type": "code",
   "execution_count": 124,
   "id": "3e12dbad",
   "metadata": {},
   "outputs": [
    {
     "data": {
      "text/plain": [
       "3.0"
      ]
     },
     "execution_count": 124,
     "metadata": {},
     "output_type": "execute_result"
    }
   ],
   "source": [
    "my_func(10,20,30)"
   ]
  },
  {
   "cell_type": "code",
   "execution_count": 125,
   "id": "52ca1ef9",
   "metadata": {},
   "outputs": [
    {
     "data": {
      "text/plain": [
       "60"
      ]
     },
     "execution_count": 125,
     "metadata": {},
     "output_type": "execute_result"
    }
   ],
   "source": [
    "def my_sum(*args):\n",
    "    return sum(args)\n",
    "my_sum(10,20,30)"
   ]
  },
  {
   "cell_type": "code",
   "execution_count": 126,
   "id": "aa97de8a",
   "metadata": {},
   "outputs": [
    {
     "data": {
      "text/plain": [
       "210"
      ]
     },
     "execution_count": 126,
     "metadata": {},
     "output_type": "execute_result"
    }
   ],
   "source": [
    "my_sum(1,2,3,4,5,6,7,8,9,10,11,12,13,14,15,16,17,18,19,20)"
   ]
  },
  {
   "cell_type": "markdown",
   "id": "70121825",
   "metadata": {},
   "source": [
    "# Keyword Arguments"
   ]
  },
  {
   "cell_type": "markdown",
   "id": "2a7d7053",
   "metadata": {},
   "source": [
    "You can also send arguments with the key = value syntax"
   ]
  },
  {
   "cell_type": "code",
   "execution_count": 127,
   "id": "a4960139",
   "metadata": {},
   "outputs": [
    {
     "name": "stdout",
     "output_type": "stream",
     "text": [
      "The Youngest child is Abhishek\n"
     ]
    }
   ],
   "source": [
    "def my_func(child3,child2,child1):\n",
    "    print(\"The Youngest child is \" + child3)\n",
    "my_func(\"Abhishek\",\"Anuj\",\"Arjun\")"
   ]
  },
  {
   "cell_type": "markdown",
   "id": "637797f3",
   "metadata": {},
   "source": [
    "# Arbitary Keyword Arguments **Kwargs"
   ]
  },
  {
   "cell_type": "markdown",
   "id": "f6f6d193",
   "metadata": {},
   "source": [
    "If you do not know how many keyword arguments that will be paseed into your function, add two asterisk ** before the parameter name in the function definition.\n",
    "This way the function will receive a dictionary of arguments and can access the items accordingly."
   ]
  },
  {
   "cell_type": "code",
   "execution_count": 128,
   "id": "65bc1ae5",
   "metadata": {},
   "outputs": [
    {
     "name": "stdout",
     "output_type": "stream",
     "text": [
      "His last name is kumar\n"
     ]
    }
   ],
   "source": [
    "# If the no. of keyword arguments is unknown, add a double ** before the parameter name.\n",
    "def my_func(**kid):\n",
    "    print(\"His last name is \"+ kid[\"lname\"])\n",
    "my_func(fname=\"Abhishek\",lname=\"kumar\")"
   ]
  },
  {
   "cell_type": "code",
   "execution_count": 129,
   "id": "5843b0a5",
   "metadata": {},
   "outputs": [],
   "source": [
    "def my_func(**kwargs):\n",
    "    if 'fruits' in kwargs:\n",
    "        print(\"My fruits of choice is {}\".format(kwargs[\"fruits\"]))\n",
    "    else:\n",
    "        print('I did not find any fruit here!!!')"
   ]
  },
  {
   "cell_type": "code",
   "execution_count": 130,
   "id": "392b4368",
   "metadata": {},
   "outputs": [
    {
     "name": "stdout",
     "output_type": "stream",
     "text": [
      "My fruits of choice is banana\n"
     ]
    }
   ],
   "source": [
    "my_func(fruits=\"banana\",veggie=\"ladyfinger\")"
   ]
  },
  {
   "cell_type": "code",
   "execution_count": 131,
   "id": "9921187f",
   "metadata": {},
   "outputs": [
    {
     "name": "stdout",
     "output_type": "stream",
     "text": [
      "(10, 20, 30)\n",
      "{'fruits': 'orange', 'food': 'eggs', 'animal': 'dog'}\n",
      "I would like 10 eggs\n"
     ]
    }
   ],
   "source": [
    "def my_func(*args,**kwargs):\n",
    "    print(args)\n",
    "    print(kwargs)\n",
    "    print(\"I would like {} {}\".format(args[0],kwargs[\"food\"]))\n",
    "my_func(10,20,30,fruits=\"orange\",food=\"eggs\",animal=\"dog\")"
   ]
  }
 ],
 "metadata": {
  "kernelspec": {
   "display_name": "Python 3 (ipykernel)",
   "language": "python",
   "name": "python3"
  },
  "language_info": {
   "codemirror_mode": {
    "name": "ipython",
    "version": 3
   },
   "file_extension": ".py",
   "mimetype": "text/x-python",
   "name": "python",
   "nbconvert_exporter": "python",
   "pygments_lexer": "ipython3",
   "version": "3.9.7"
  }
 },
 "nbformat": 4,
 "nbformat_minor": 5
}
